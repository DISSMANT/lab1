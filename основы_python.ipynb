{
 "nbformat": 4,
 "nbformat_minor": 0,
 "metadata": {
  "colab": {
   "provenance": []
  },
  "kernelspec": {
   "name": "python3",
   "display_name": "Python 3 (ipykernel)",
   "language": "python"
  },
  "language_info": {
   "name": "python"
  }
 },
 "cells": [
  {
   "cell_type": "markdown",
   "source": [
    "# Задача 1\n",
    "\n",
    "Написать функцию на вход которой подается строка, состоящая из латинских букв.\n",
    "Функция должна вернуть количество гласных букв (a, e, i, o, u) в этой строке. Написать тесты для кода"
   ],
   "metadata": {
    "id": "M-DGa20PaHnu"
   }
  },
  {
   "cell_type": "code",
   "source": [
    "def count_vowels(s):\n",
    "    vowels = 'aeiouAEIOU'\n",
    "    count = sum(1 for char in s if char in vowels)\n",
    "    return count\n",
    "\n",
    "import unittest\n",
    "class TestCountVowels(unittest.TestCase):\n",
    "    def test_empty_string(self):\n",
    "        self.assertEqual(count_vowels(''), 0)\n",
    "\n",
    "    def test_no_vowels(self):\n",
    "        self.assertEqual(count_vowels('bcdfghjklmnpqrstvwxyz'), 0)\n",
    "\n",
    "    def test_all_vowels_lowercase(self):\n",
    "        self.assertEqual(count_vowels('aeiou'), 5)\n",
    "\n",
    "    def test_all_vowels_uppercase(self):\n",
    "        self.assertEqual(count_vowels('AEIOU'), 5)\n",
    "\n",
    "    def test_mixed_case(self):\n",
    "        self.assertEqual(count_vowels('aEiOu'), 5)\n",
    "\n",
    "    def test_mixed_letters(self):\n",
    "        self.assertEqual(count_vowels('Hello World'), 3)\n",
    "\n",
    "    def test_numbers_and_symbols(self):\n",
    "        self.assertEqual(count_vowels('12345!@#$%'), 0)\n",
    "\n",
    "    def test_long_string(self):\n",
    "        s = 'The quick brown fox jumps over the lazy dog'\n",
    "        self.assertEqual(count_vowels(s), 11)\n",
    "\n",
    "unittest.main(argv=[''], exit=False)"
   ],
   "metadata": {
    "id": "XvX8X_JJ6PCb",
    "ExecuteTime": {
     "end_time": "2024-10-22T17:51:43.014047Z",
     "start_time": "2024-10-22T17:51:42.994017Z"
    }
   },
   "outputs": [
    {
     "name": "stderr",
     "output_type": "stream",
     "text": [
      "........................................................\n",
      "----------------------------------------------------------------------\n",
      "Ran 56 tests in 0.012s\n",
      "\n",
      "OK\n"
     ]
    },
    {
     "data": {
      "text/plain": [
       "<unittest.main.TestProgram at 0x23d2ff16ff0>"
      ]
     },
     "execution_count": 129,
     "metadata": {},
     "output_type": "execute_result"
    }
   ],
   "execution_count": 129
  },
  {
   "cell_type": "markdown",
   "source": [
    "# Задача 2\n",
    "Написать функцию на вход, которой подается строка. Функция должна вернуть true, если\n",
    "каждый символ в строке встречается только 1 раз, иначе должна вернуть false. Написать тесты для кода"
   ],
   "metadata": {
    "id": "t2ClV_Y0bbr6"
   }
  },
  {
   "cell_type": "code",
   "source": [
    "def all_unique_chars(s):\n",
    "    return len(set(s)) == len(s)\n",
    "\n",
    "import unittest\n",
    "class TestAllUniqueChars(unittest.TestCase):\n",
    "    def test_empty_string(self):\n",
    "        self.assertTrue(all_unique_chars(''))\n",
    "\n",
    "    def test_unique_chars(self):\n",
    "        self.assertTrue(all_unique_chars('abcdefg'))\n",
    "\n",
    "    def test_repeated_chars(self):\n",
    "        self.assertFalse(all_unique_chars('hello'))\n",
    "\n",
    "    def test_special_chars(self):\n",
    "        self.assertTrue(all_unique_chars('!@#$%^&*()'))\n",
    "\n",
    "    def test_mixed_case(self):\n",
    "        self.assertTrue(all_unique_chars('aAbBcC'))\n",
    "\n",
    "    def test_numeric_chars(self):\n",
    "        self.assertTrue(all_unique_chars('1234567890'))\n",
    "\n",
    "    def test_repeated_special_chars(self):\n",
    "        self.assertFalse(all_unique_chars('abcdeff'))\n",
    "\n",
    "unittest.main(argv=[''], exit=False)"
   ],
   "metadata": {
    "id": "FppbECao6VIz",
    "ExecuteTime": {
     "end_time": "2024-10-22T17:51:43.170868Z",
     "start_time": "2024-10-22T17:51:43.150097Z"
    }
   },
   "outputs": [
    {
     "name": "stderr",
     "output_type": "stream",
     "text": [
      "........................................................\n",
      "----------------------------------------------------------------------\n",
      "Ran 56 tests in 0.014s\n",
      "\n",
      "OK\n"
     ]
    },
    {
     "data": {
      "text/plain": [
       "<unittest.main.TestProgram at 0x23d2ff16690>"
      ]
     },
     "execution_count": 130,
     "metadata": {},
     "output_type": "execute_result"
    }
   ],
   "execution_count": 130
  },
  {
   "cell_type": "markdown",
   "source": [
    "# Задача 3\n",
    "Написать функцию, которая принимает положительное число и возвращает количество\n",
    "бит равных 1 в этом числе. Написать тесты для кода"
   ],
   "metadata": {
    "id": "udRiIK1cdt6E"
   }
  },
  {
   "cell_type": "code",
   "source": [
    "def count_bits(n):\n",
    "    return bin(n).count('1')\n",
    "\n",
    "import unittest\n",
    "class TestCountBits(unittest.TestCase):\n",
    "    def test_zero(self):\n",
    "        self.assertEqual(count_bits(0), 0)\n",
    "\n",
    "    def test_one(self):\n",
    "        self.assertEqual(count_bits(1), 1)\n",
    "\n",
    "    def test_two(self):\n",
    "        self.assertEqual(count_bits(2), 1)\n",
    "\n",
    "    def test_three(self):\n",
    "        self.assertEqual(count_bits(3), 2)\n",
    "\n",
    "    def test_large_number(self):\n",
    "        self.assertEqual(count_bits(123456789), bin(123456789).count('1'))\n",
    "\n",
    "    def test_max_int(self):\n",
    "        import sys\n",
    "        n = sys.maxsize\n",
    "        self.assertEqual(count_bits(n), bin(n).count('1'))\n",
    "\n",
    "unittest.main(argv=[''], exit=False)\n"
   ],
   "metadata": {
    "id": "6tkfDJRz6dp_",
    "ExecuteTime": {
     "end_time": "2024-10-22T17:51:43.218862Z",
     "start_time": "2024-10-22T17:51:43.199632Z"
    }
   },
   "outputs": [
    {
     "name": "stderr",
     "output_type": "stream",
     "text": [
      "........................................................\n",
      "----------------------------------------------------------------------\n",
      "Ran 56 tests in 0.013s\n",
      "\n",
      "OK\n"
     ]
    },
    {
     "data": {
      "text/plain": [
       "<unittest.main.TestProgram at 0x23d2ff9bfb0>"
      ]
     },
     "execution_count": 131,
     "metadata": {},
     "output_type": "execute_result"
    }
   ],
   "execution_count": 131
  },
  {
   "cell_type": "markdown",
   "source": [
    "# Задача 4\n",
    "Написать функцию, которая принимает положительное число. Функция должна вернуть то,\n",
    "сколько раз необходимо перемножать цифры числа или результат перемножения, чтобы\n",
    "получилось число состоящее из одной цифры.\n",
    "Например, для входного числа:\n",
    "· 39 функция должна вернуть 3, так как 3*9=27 => 2*7=14 => 1*4=4\n",
    "· 4 функция должна вернуть 0, так как число уже состоит из одной цифры\n",
    "· 999 функция должна вернуть 4, так как 9*9*9=729 => 7*2*9=126 => 1*2*6=12 =>\n",
    "1*2=2. Написать тесты для кода"
   ],
   "metadata": {
    "id": "26dDUz-Ae17N"
   }
  },
  {
   "cell_type": "code",
   "source": [
    "def magic(n):\n",
    "    if n < 10:\n",
    "        return 0\n",
    "    count = 0\n",
    "    while n >= 10:\n",
    "        digits = [int(d) for d in str(n)]\n",
    "        n = 1\n",
    "        for d in digits:\n",
    "            n *= d\n",
    "        count += 1\n",
    "    return count\n",
    "\n",
    "import unittest\n",
    "class TestMultiplicativePersistence(unittest.TestCase):\n",
    "    def test_single_digit(self):\n",
    "        self.assertEqual(magic(4), 0)\n",
    "\n",
    "    def test_39(self):\n",
    "        self.assertEqual(magic(39), 3)\n",
    "\n",
    "    def test_999(self):\n",
    "        self.assertEqual(magic(999), 4)\n",
    "\n",
    "    def test_25(self):\n",
    "        self.assertEqual(magic(25), 2)\n",
    "\n",
    "    def test_77(self):\n",
    "        self.assertEqual(magic(77), 4)\n",
    "\n",
    "    def test_large_number(self):\n",
    "        self.assertEqual(magic(277777788888899), 11)\n",
    "\n",
    "unittest.main(argv=[''], exit=False)\n"
   ],
   "metadata": {
    "id": "BH1A_Mgi6i4G",
    "ExecuteTime": {
     "end_time": "2024-10-22T17:51:43.265446Z",
     "start_time": "2024-10-22T17:51:43.245151Z"
    }
   },
   "outputs": [
    {
     "name": "stderr",
     "output_type": "stream",
     "text": [
      "........................................................\n",
      "----------------------------------------------------------------------\n",
      "Ran 56 tests in 0.014s\n",
      "\n",
      "OK\n"
     ]
    },
    {
     "data": {
      "text/plain": [
       "<unittest.main.TestProgram at 0x23d2ff9a2d0>"
      ]
     },
     "execution_count": 132,
     "metadata": {},
     "output_type": "execute_result"
    }
   ],
   "execution_count": 132
  },
  {
   "cell_type": "markdown",
   "source": [
    "# Задача 5\n",
    "Написать функцию, которая принимает два целочисленных вектора одинаковой длины и\n",
    "возвращает среднеквадратическое отклонение двух векторов. Написать тесты для кода"
   ],
   "metadata": {
    "id": "0nS-kIa8g8vd"
   }
  },
  {
   "cell_type": "code",
   "source": [
    "import math\n",
    "def mse(x, y):\n",
    "    if len(x) != len(y):\n",
    "        raise ValueError('Vectors must be of the same length')\n",
    "    n = len(x)\n",
    "    if n == 0:\n",
    "        raise ValueError('Vectors must not be empty')\n",
    "    squared_diffs = [(xi - yi) ** 2 for xi, yi in zip(x, y)]\n",
    "    mean_squared_diff = sum(squared_diffs) / n\n",
    "    return math.sqrt(mean_squared_diff)\n",
    "\n",
    "\n",
    "import unittest\n",
    "class TestRootMeanSquareDeviation(unittest.TestCase):\n",
    "    def test_same_vectors(self):\n",
    "        x = [1, 2, 3]\n",
    "        y = [1, 2, 3]\n",
    "        self.assertEqual(mse(x, y), 0.0)\n",
    "\n",
    "    def test_simple_case(self):\n",
    "        x = [1, 2, 3]\n",
    "        y = [4, 5, 6]\n",
    "        result = mse(x, y)\n",
    "        expected = math.sqrt(((1-4)**2 + (2-5)**2 + (3-6)**2)/3)\n",
    "        self.assertEqual(result, expected)\n",
    "\n",
    "    def test_negative_numbers(self):\n",
    "        x = [-1, -2, -3]\n",
    "        y = [-4, -5, -6]\n",
    "        result = mse(x, y)\n",
    "        expected = math.sqrt(((-1+4)**2 + (-2+5)**2 + (-3+6)**2)/3)\n",
    "        self.assertEqual(result, expected)\n",
    "\n",
    "    def test_different_lengths(self):\n",
    "        x = [1, 2, 3]\n",
    "        y = [1, 2]\n",
    "        with self.assertRaises(ValueError):\n",
    "            mse(x, y)\n",
    "\n",
    "    def test_empty_vectors(self):\n",
    "        x = []\n",
    "        y = []\n",
    "        with self.assertRaises(ValueError):\n",
    "            mse(x, y)\n",
    "\n",
    "    def test_zero_vectors(self):\n",
    "        x = [0, 0, 0]\n",
    "        y = [0, 0, 0]\n",
    "        self.assertEqual(mse(x, y), 0.0)\n",
    "\n",
    "    def test_floats(self):\n",
    "        x = [1.5, 2.5, 3.5]\n",
    "        y = [4.5, 5.5, 6.5]\n",
    "        result = mse(x, y)\n",
    "        expected = math.sqrt(((1.5-4.5)**2 + (2.5-5.5)**2 + (3.5-6.5)**2)/3)\n",
    "        self.assertEqual(result, expected)\n",
    "\n",
    "unittest.main(argv=[''], exit=False)\n"
   ],
   "metadata": {
    "id": "8iphx4LM6xbx",
    "ExecuteTime": {
     "end_time": "2024-10-22T17:51:43.308895Z",
     "start_time": "2024-10-22T17:51:43.287384Z"
    }
   },
   "outputs": [
    {
     "name": "stderr",
     "output_type": "stream",
     "text": [
      "........................................................\n",
      "----------------------------------------------------------------------\n",
      "Ran 56 tests in 0.014s\n",
      "\n",
      "OK\n"
     ]
    },
    {
     "data": {
      "text/plain": [
       "<unittest.main.TestProgram at 0x23d2feeb740>"
      ]
     },
     "execution_count": 133,
     "metadata": {},
     "output_type": "execute_result"
    }
   ],
   "execution_count": 133
  },
  {
   "cell_type": "markdown",
   "source": [
    "# Задача 6\n",
    "Написать функцию, принимающая целое положительное число. Функция должна вернуть\n",
    "строку вида “(n1**p1)(n2**p2)…(nk**pk)” представляющая разложение числа на простые\n",
    "множители (если pi == 1, то выводить только ni).\n",
    "Например, для числа 86240 функция должна вернуть “(2**5)(5)(7**2)(11)”. Написать тесты для кода"
   ],
   "metadata": {
    "id": "vpIPKL439zkw"
   }
  },
  {
   "cell_type": "code",
   "source": [
    "def prime_factors(n):\n",
    "    if n <= 0:\n",
    "        raise ValueError('n must be a positive integer greater than 0')\n",
    "    if n == 1:\n",
    "        return ''\n",
    "    i = 2\n",
    "    factors = {}\n",
    "    while i * i <= n:\n",
    "        count = 0\n",
    "        while n % i == 0:\n",
    "            n //= i\n",
    "            count += 1\n",
    "        if count > 0:\n",
    "            factors[i] = count\n",
    "        i += 1\n",
    "    if n > 1:\n",
    "        factors[n] = factors.get(n, 0) + 1\n",
    "    result = ''\n",
    "    for prime in sorted(factors.keys()):\n",
    "        exponent = factors[prime]\n",
    "        if exponent == 1:\n",
    "            result += f'({prime})'\n",
    "        else:\n",
    "            result += f'({prime}**{exponent})'\n",
    "    return result\n",
    "\n",
    "\n",
    "import unittest\n",
    "class TestPrimeFactors(unittest.TestCase):\n",
    "    def test_example(self):\n",
    "        self.assertEqual(prime_factors(86240), '(2**5)(5)(7**2)(11)')\n",
    "\n",
    "    def test_one(self):\n",
    "        self.assertEqual(prime_factors(1), '')\n",
    "\n",
    "    def test_prime(self):\n",
    "        self.assertEqual(prime_factors(13), '(13)')\n",
    "\n",
    "    def test_power_of_prime(self):\n",
    "        self.assertEqual(prime_factors(32), '(2**5)')\n",
    "\n",
    "    def test_product_of_primes(self):\n",
    "        self.assertEqual(prime_factors(2*3*5*7*11), '(2)(3)(5)(7)(11)')\n",
    "\n",
    "    def test_large_number(self):\n",
    "        self.assertEqual(prime_factors(7775460), '(2**2)(3**3)(5)(7)(11**2)(17)')\n",
    "\n",
    "    def test_zero(self):\n",
    "        with self.assertRaises(ValueError):\n",
    "            prime_factors(0)\n",
    "\n",
    "    def test_negative_number(self):\n",
    "        with self.assertRaises(ValueError):\n",
    "            prime_factors(-10)\n",
    "\n",
    "unittest.main(argv=[''], exit=False)\n"
   ],
   "metadata": {
    "id": "pFebmcZk94Jw",
    "ExecuteTime": {
     "end_time": "2024-10-22T17:51:43.350587Z",
     "start_time": "2024-10-22T17:51:43.328297Z"
    }
   },
   "outputs": [
    {
     "name": "stderr",
     "output_type": "stream",
     "text": [
      "........................................................\n",
      "----------------------------------------------------------------------\n",
      "Ran 56 tests in 0.014s\n",
      "\n",
      "OK\n"
     ]
    },
    {
     "data": {
      "text/plain": [
       "<unittest.main.TestProgram at 0x23d2fd27a10>"
      ]
     },
     "execution_count": 134,
     "metadata": {},
     "output_type": "execute_result"
    }
   ],
   "execution_count": 134
  },
  {
   "cell_type": "markdown",
   "source": [
    "# Задача 7\n",
    "Написать функцию, принимающая целое число n, задающее количество кубиков. Функция\n",
    "должна определить, можно ли из данного кол-ва кубиков построить пирамиду, то есть\n",
    "можно ли представить число n как 1^2+2^2+3^2+…+k^2. Если можно, то функция должна\n",
    "вернуть k, иначе строку “It is impossible”. Написать тесты для кода"
   ],
   "metadata": {
    "id": "ps2s0BudX7A2"
   }
  },
  {
   "cell_type": "code",
   "source": [
    "def pyramid(n):\n",
    "    if n < 1:\n",
    "        return \"It is impossible\"\n",
    "    total = 0\n",
    "    k = 0\n",
    "    while total < n:\n",
    "        k += 1\n",
    "        total += k ** 2\n",
    "    if total == n:\n",
    "        return k\n",
    "    else:\n",
    "        return \"It is impossible\"\n",
    "\n",
    "import unittest\n",
    "class TestPyramid(unittest.TestCase):\n",
    "    def test_possible(self):\n",
    "        self.assertEqual(pyramid(14), 3)  # 1^2 + 2^2 + 3^2 = 14\n",
    "\n",
    "    def test_impossible(self):\n",
    "        self.assertEqual(pyramid(15), \"It is impossible\")\n",
    "\n",
    "    def test_large_possible(self):\n",
    "        self.assertEqual(pyramid(385), 10)\n",
    "\n",
    "    def test_zero(self):\n",
    "        self.assertEqual(pyramid(0), \"It is impossible\")\n",
    "\n",
    "    def test_negative(self):\n",
    "        self.assertEqual(pyramid(-5), \"It is impossible\")\n",
    "\n",
    "    def test_one(self):\n",
    "        self.assertEqual(pyramid(1), 1)\n",
    "\n",
    "    def test_non_integer_result(self):\n",
    "        self.assertEqual(pyramid(5), 2)\n",
    "\n",
    "unittest.main(argv=[''], exit=False)"
   ],
   "metadata": {
    "id": "3YPjEXxhX_YT",
    "ExecuteTime": {
     "end_time": "2024-10-22T17:51:43.384311Z",
     "start_time": "2024-10-22T17:51:43.362336Z"
    }
   },
   "outputs": [
    {
     "name": "stderr",
     "output_type": "stream",
     "text": [
      "........................................................\n",
      "----------------------------------------------------------------------\n",
      "Ran 56 tests in 0.015s\n",
      "\n",
      "OK\n"
     ]
    },
    {
     "data": {
      "text/plain": [
       "<unittest.main.TestProgram at 0x23d2ff63ec0>"
      ]
     },
     "execution_count": 135,
     "metadata": {},
     "output_type": "execute_result"
    }
   ],
   "execution_count": 135
  },
  {
   "cell_type": "markdown",
   "source": [
    "# Задача 8\n",
    "Функция принимает на вход положительное число и определяет является ли оно сбалансированным, т.е. сумма цифр до средних равна сумме цифр после. Средними в случае нечетного числа цифр считать одну цифру, в случае четного - две средних. Написать тесты для кода"
   ],
   "metadata": {
    "id": "KeKgmIdAQMEJ"
   }
  },
  {
   "cell_type": "code",
   "source": [
    "def is_balanced(n):\n",
    "    digits = [int(d) for d in str(n)]\n",
    "    length = len(digits)\n",
    "    mid = length // 2\n",
    "    if length % 2 == 0:\n",
    "        left = digits[:mid]\n",
    "        right = digits[mid:]\n",
    "    else:\n",
    "        left = digits[:mid]\n",
    "        right = digits[mid+1:]\n",
    "    return sum(left) == sum(right)\n",
    "\n",
    "\n",
    "import unittest\n",
    "class TestIsBalanced(unittest.TestCase):\n",
    "    def test_single_digit(self):\n",
    "        self.assertTrue(is_balanced(5))\n",
    "\n",
    "    def test_even_length_balanced(self):\n",
    "        self.assertTrue(is_balanced(1234321))\n",
    "\n",
    "    def test_even_length_unbalanced(self):\n",
    "        self.assertFalse(is_balanced(123421))\n",
    "\n",
    "    def test_odd_length_balanced(self):\n",
    "        self.assertTrue(is_balanced(12321))\n",
    "\n",
    "    def test_odd_length_unbalanced(self):\n",
    "        self.assertFalse(is_balanced(12341))\n",
    "\n",
    "    def test_zero(self):\n",
    "        self.assertTrue(is_balanced(0))\n",
    "\n",
    "    def test_large_number_balanced(self):\n",
    "        self.assertTrue(is_balanced(1234004321))\n",
    "\n",
    "unittest.main(argv=[''], exit=False)"
   ],
   "metadata": {
    "id": "gMAAqtqlQrZt",
    "ExecuteTime": {
     "end_time": "2024-10-22T17:51:43.407296Z",
     "start_time": "2024-10-22T17:51:43.387641Z"
    }
   },
   "outputs": [
    {
     "name": "stderr",
     "output_type": "stream",
     "text": [
      "........................................................\n",
      "----------------------------------------------------------------------\n",
      "Ran 56 tests in 0.013s\n",
      "\n",
      "OK\n"
     ]
    },
    {
     "data": {
      "text/plain": [
       "<unittest.main.TestProgram at 0x23d2ff9bb00>"
      ]
     },
     "execution_count": 136,
     "metadata": {},
     "output_type": "execute_result"
    }
   ],
   "execution_count": 136
  }
 ]
}
